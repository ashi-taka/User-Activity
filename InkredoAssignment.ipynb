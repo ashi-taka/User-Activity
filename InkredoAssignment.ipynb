{
 "cells": [
  {
   "cell_type": "code",
   "execution_count": 1,
   "metadata": {},
   "outputs": [],
   "source": [
    "import pandas as pd\n",
    "import numpy as np\n",
    "import matplotlib.pyplot as plt\n",
    "%matplotlib inline"
   ]
  },
  {
   "cell_type": "code",
   "execution_count": 2,
   "metadata": {},
   "outputs": [],
   "source": [
    "data = pd.read_csv('Downloads/events_log.csv.gz',  compression='gzip',\n",
    "                   error_bad_lines=False)"
   ]
  },
  {
   "cell_type": "code",
   "execution_count": 3,
   "metadata": {},
   "outputs": [
    {
     "data": {
      "text/html": [
       "<div>\n",
       "<style scoped>\n",
       "    .dataframe tbody tr th:only-of-type {\n",
       "        vertical-align: middle;\n",
       "    }\n",
       "\n",
       "    .dataframe tbody tr th {\n",
       "        vertical-align: top;\n",
       "    }\n",
       "\n",
       "    .dataframe thead th {\n",
       "        text-align: right;\n",
       "    }\n",
       "</style>\n",
       "<table border=\"1\" class=\"dataframe\">\n",
       "  <thead>\n",
       "    <tr style=\"text-align: right;\">\n",
       "      <th></th>\n",
       "      <th>uuid</th>\n",
       "      <th>timestamp</th>\n",
       "      <th>session_id</th>\n",
       "      <th>group</th>\n",
       "      <th>action</th>\n",
       "      <th>checkin</th>\n",
       "      <th>page_id</th>\n",
       "      <th>n_results</th>\n",
       "      <th>result_position</th>\n",
       "    </tr>\n",
       "  </thead>\n",
       "  <tbody>\n",
       "    <tr>\n",
       "      <th>0</th>\n",
       "      <td>00000736167c507e8ec225bd9e71f9e5</td>\n",
       "      <td>2.016030e+13</td>\n",
       "      <td>78245c2c3fba013a</td>\n",
       "      <td>b</td>\n",
       "      <td>searchResultPage</td>\n",
       "      <td>NaN</td>\n",
       "      <td>cbeb66d1bc1f1bc2</td>\n",
       "      <td>5.0</td>\n",
       "      <td>NaN</td>\n",
       "    </tr>\n",
       "    <tr>\n",
       "      <th>1</th>\n",
       "      <td>00000c69fe345268935463abbfa5d5b3</td>\n",
       "      <td>2.016031e+13</td>\n",
       "      <td>c559c3be98dca8a4</td>\n",
       "      <td>a</td>\n",
       "      <td>searchResultPage</td>\n",
       "      <td>NaN</td>\n",
       "      <td>eb658e8722aad674</td>\n",
       "      <td>10.0</td>\n",
       "      <td>NaN</td>\n",
       "    </tr>\n",
       "    <tr>\n",
       "      <th>2</th>\n",
       "      <td>00003bfdab715ee59077a3670331b787</td>\n",
       "      <td>2.016030e+13</td>\n",
       "      <td>760bf89817ce4b08</td>\n",
       "      <td>a</td>\n",
       "      <td>checkin</td>\n",
       "      <td>30.0</td>\n",
       "      <td>f99a9fc1f7fdd21e</td>\n",
       "      <td>NaN</td>\n",
       "      <td>NaN</td>\n",
       "    </tr>\n",
       "    <tr>\n",
       "      <th>3</th>\n",
       "      <td>0000465cd7c35ad2bdeafec953e08c1a</td>\n",
       "      <td>2.016030e+13</td>\n",
       "      <td>fb905603d31b2071</td>\n",
       "      <td>a</td>\n",
       "      <td>checkin</td>\n",
       "      <td>60.0</td>\n",
       "      <td>e5626962a6939a75</td>\n",
       "      <td>NaN</td>\n",
       "      <td>10.0</td>\n",
       "    </tr>\n",
       "    <tr>\n",
       "      <th>4</th>\n",
       "      <td>000050cbb4ef5b42b16c4d2cf69e6358</td>\n",
       "      <td>2.016030e+13</td>\n",
       "      <td>c2bf5e5172a892dc</td>\n",
       "      <td>a</td>\n",
       "      <td>checkin</td>\n",
       "      <td>30.0</td>\n",
       "      <td>787dd6a4c371cbf9</td>\n",
       "      <td>NaN</td>\n",
       "      <td>NaN</td>\n",
       "    </tr>\n",
       "  </tbody>\n",
       "</table>\n",
       "</div>"
      ],
      "text/plain": [
       "                               uuid     timestamp        session_id group  \\\n",
       "0  00000736167c507e8ec225bd9e71f9e5  2.016030e+13  78245c2c3fba013a     b   \n",
       "1  00000c69fe345268935463abbfa5d5b3  2.016031e+13  c559c3be98dca8a4     a   \n",
       "2  00003bfdab715ee59077a3670331b787  2.016030e+13  760bf89817ce4b08     a   \n",
       "3  0000465cd7c35ad2bdeafec953e08c1a  2.016030e+13  fb905603d31b2071     a   \n",
       "4  000050cbb4ef5b42b16c4d2cf69e6358  2.016030e+13  c2bf5e5172a892dc     a   \n",
       "\n",
       "             action  checkin           page_id  n_results  result_position  \n",
       "0  searchResultPage      NaN  cbeb66d1bc1f1bc2        5.0              NaN  \n",
       "1  searchResultPage      NaN  eb658e8722aad674       10.0              NaN  \n",
       "2           checkin     30.0  f99a9fc1f7fdd21e        NaN              NaN  \n",
       "3           checkin     60.0  e5626962a6939a75        NaN             10.0  \n",
       "4           checkin     30.0  787dd6a4c371cbf9        NaN              NaN  "
      ]
     },
     "execution_count": 3,
     "metadata": {},
     "output_type": "execute_result"
    }
   ],
   "source": [
    "data.head()"
   ]
  },
  {
   "cell_type": "code",
   "execution_count": 4,
   "metadata": {},
   "outputs": [
    {
     "data": {
      "text/plain": [
       "uuid                object\n",
       "timestamp          float64\n",
       "session_id          object\n",
       "group               object\n",
       "action              object\n",
       "checkin            float64\n",
       "page_id             object\n",
       "n_results          float64\n",
       "result_position    float64\n",
       "dtype: object"
      ]
     },
     "execution_count": 4,
     "metadata": {},
     "output_type": "execute_result"
    }
   ],
   "source": [
    "data.dtypes"
   ]
  },
  {
   "cell_type": "code",
   "execution_count": 5,
   "metadata": {},
   "outputs": [],
   "source": [
    "import datetime as dt\n",
    "data['timestamp'] = pd.to_datetime(data['timestamp'].astype(str).str[:14],format='%Y%m%d%H%M%S')"
   ]
  },
  {
   "cell_type": "code",
   "execution_count": 6,
   "metadata": {},
   "outputs": [
    {
     "data": {
      "text/plain": [
       "uuid                    0\n",
       "timestamp               0\n",
       "session_id              0\n",
       "group                   0\n",
       "action                  0\n",
       "checkin            176341\n",
       "page_id                 0\n",
       "n_results          263931\n",
       "result_position    169683\n",
       "dtype: int64"
      ]
     },
     "execution_count": 6,
     "metadata": {},
     "output_type": "execute_result"
    }
   ],
   "source": [
    "pd.isnull(data).sum()"
   ]
  },
  {
   "cell_type": "code",
   "execution_count": 7,
   "metadata": {},
   "outputs": [],
   "source": [
    "## Page opened most for 10 seconds\n",
    "data['day'] = data['timestamp'].dt.weekday_name"
   ]
  },
  {
   "cell_type": "code",
   "execution_count": 8,
   "metadata": {},
   "outputs": [
    {
     "data": {
      "text/plain": [
       "a    299019\n",
       "b    101146\n",
       "Name: group, dtype: int64"
      ]
     },
     "execution_count": 8,
     "metadata": {},
     "output_type": "execute_result"
    }
   ],
   "source": [
    "data['group'].value_counts()"
   ]
  },
  {
   "cell_type": "code",
   "execution_count": 10,
   "metadata": {},
   "outputs": [],
   "source": [
    "#data['n_results'].value_counts()\n"
   ]
  },
  {
   "cell_type": "code",
   "execution_count": 12,
   "metadata": {},
   "outputs": [
    {
     "data": {
      "text/plain": [
       "checkin             223824\n",
       "searchResultPage    136234\n",
       "visitPage            40107\n",
       "Name: action, dtype: int64"
      ]
     },
     "execution_count": 12,
     "metadata": {},
     "output_type": "execute_result"
    }
   ],
   "source": [
    "data['action'].value_counts()"
   ]
  },
  {
   "cell_type": "code",
   "execution_count": 13,
   "metadata": {},
   "outputs": [
    {
     "data": {
      "text/plain": [
       "2          30.0\n",
       "3          60.0\n",
       "4          30.0\n",
       "5         180.0\n",
       "6         240.0\n",
       "8         180.0\n",
       "9         150.0\n",
       "11         30.0\n",
       "13         10.0\n",
       "14         30.0\n",
       "15         10.0\n",
       "18         20.0\n",
       "19         50.0\n",
       "20         10.0\n",
       "25         20.0\n",
       "26         10.0\n",
       "27         90.0\n",
       "28        150.0\n",
       "33         40.0\n",
       "35         20.0\n",
       "37         20.0\n",
       "40        240.0\n",
       "41         50.0\n",
       "42         50.0\n",
       "44         30.0\n",
       "45         30.0\n",
       "46        180.0\n",
       "49        120.0\n",
       "52         20.0\n",
       "53         90.0\n",
       "          ...  \n",
       "400113     60.0\n",
       "400114    300.0\n",
       "400116     60.0\n",
       "400117     40.0\n",
       "400118     40.0\n",
       "400120    120.0\n",
       "400121     50.0\n",
       "400122     40.0\n",
       "400128    120.0\n",
       "400129    300.0\n",
       "400132     30.0\n",
       "400133     30.0\n",
       "400135     20.0\n",
       "400137    180.0\n",
       "400138    120.0\n",
       "400139     10.0\n",
       "400140    150.0\n",
       "400142     30.0\n",
       "400143     60.0\n",
       "400145     90.0\n",
       "400147    120.0\n",
       "400152    180.0\n",
       "400153     40.0\n",
       "400154     30.0\n",
       "400156     10.0\n",
       "400157     60.0\n",
       "400159    240.0\n",
       "400160    120.0\n",
       "400161     10.0\n",
       "400164     30.0\n",
       "Name: checkin, Length: 223824, dtype: float64"
      ]
     },
     "execution_count": 13,
     "metadata": {},
     "output_type": "execute_result"
    }
   ],
   "source": [
    "data[data['action'] == 'checkin']['checkin']"
   ]
  },
  {
   "cell_type": "code",
   "execution_count": 14,
   "metadata": {},
   "outputs": [
    {
     "data": {
      "text/plain": [
       "145936      0.0\n",
       "105401      0.0\n",
       "175525      0.0\n",
       "53881       0.0\n",
       "368852      0.0\n",
       "213517      0.0\n",
       "105421      0.0\n",
       "53869       0.0\n",
       "298510      0.0\n",
       "175501      0.0\n",
       "53858       0.0\n",
       "53852       0.0\n",
       "368861      0.0\n",
       "213534      0.0\n",
       "276687      0.0\n",
       "298537      0.0\n",
       "53821       0.0\n",
       "276668      0.0\n",
       "339107      0.0\n",
       "105429      0.0\n",
       "105430      0.0\n",
       "105432      0.0\n",
       "53892       0.0\n",
       "53899       0.0\n",
       "213512      0.0\n",
       "53909       0.0\n",
       "105341      0.0\n",
       "53982       0.0\n",
       "175581      0.0\n",
       "368807      0.0\n",
       "          ...  \n",
       "341372    500.0\n",
       "108290    500.0\n",
       "98120     500.0\n",
       "209215    500.0\n",
       "374678    500.0\n",
       "310347    500.0\n",
       "371855    500.0\n",
       "201060    500.0\n",
       "363734    500.0\n",
       "253177    500.0\n",
       "317437    500.0\n",
       "273262    500.0\n",
       "18600     500.0\n",
       "281161    500.0\n",
       "188327    500.0\n",
       "267873    500.0\n",
       "360718    500.0\n",
       "197557    500.0\n",
       "332339    500.0\n",
       "309243    500.0\n",
       "220286    500.0\n",
       "194039    500.0\n",
       "42946     500.0\n",
       "141664    500.0\n",
       "255027    500.0\n",
       "42877     500.0\n",
       "26299     500.0\n",
       "70135     500.0\n",
       "279855    500.0\n",
       "226793    500.0\n",
       "Name: n_results, Length: 136234, dtype: float64"
      ]
     },
     "execution_count": 14,
     "metadata": {},
     "output_type": "execute_result"
    }
   ],
   "source": [
    "data[data['action'] == 'searchResultPage']['n_results'].sort_values()"
   ]
  },
  {
   "cell_type": "code",
   "execution_count": 15,
   "metadata": {},
   "outputs": [
    {
     "data": {
      "text/plain": [
       "0         True\n",
       "1         True\n",
       "7         True\n",
       "10        True\n",
       "12        True\n",
       "16        True\n",
       "17        True\n",
       "22        True\n",
       "23        True\n",
       "24        True\n",
       "30        True\n",
       "31        True\n",
       "32        True\n",
       "34        True\n",
       "36        True\n",
       "38        True\n",
       "39        True\n",
       "43        True\n",
       "47        True\n",
       "48        True\n",
       "50        True\n",
       "51        True\n",
       "54        True\n",
       "55        True\n",
       "60        True\n",
       "64        True\n",
       "65        True\n",
       "66        True\n",
       "68        True\n",
       "73        True\n",
       "          ... \n",
       "400059    True\n",
       "400063    True\n",
       "400073    True\n",
       "400074    True\n",
       "400082    True\n",
       "400085    True\n",
       "400089    True\n",
       "400091    True\n",
       "400095    True\n",
       "400098    True\n",
       "400102    True\n",
       "400103    True\n",
       "400115    True\n",
       "400119    True\n",
       "400123    True\n",
       "400125    True\n",
       "400127    True\n",
       "400130    True\n",
       "400131    True\n",
       "400134    True\n",
       "400136    True\n",
       "400144    True\n",
       "400146    True\n",
       "400148    True\n",
       "400150    True\n",
       "400151    True\n",
       "400155    True\n",
       "400158    True\n",
       "400162    True\n",
       "400163    True\n",
       "Name: action, Length: 136234, dtype: bool"
      ]
     },
     "execution_count": 15,
     "metadata": {},
     "output_type": "execute_result"
    }
   ],
   "source": [
    "## to see if the column n_result has all values corresponding to 'searchResultPage'\n",
    "data[data['n_results'].notnull()]['action'] == 'searchResultPage'"
   ]
  },
  {
   "cell_type": "code",
   "execution_count": 16,
   "metadata": {},
   "outputs": [
    {
     "data": {
      "text/plain": [
       "True"
      ]
     },
     "execution_count": 16,
     "metadata": {},
     "output_type": "execute_result"
    }
   ],
   "source": [
    "## to see if the column checkin has all values corresponding to 'checkin' category \n",
    "all(data[data['checkin'].notnull()]['action'] == 'checkin')"
   ]
  },
  {
   "cell_type": "code",
   "execution_count": 17,
   "metadata": {},
   "outputs": [
    {
     "data": {
      "text/plain": [
       "False"
      ]
     },
     "execution_count": 17,
     "metadata": {},
     "output_type": "execute_result"
    }
   ],
   "source": [
    "## to see if the column result_position has all values corresponding to 'checkin'\n",
    "## four values corresponds to visitpage\n",
    "all(data[data['result_position'].notnull()]['action'] == 'checkin')"
   ]
  },
  {
   "cell_type": "code",
   "execution_count": 18,
   "metadata": {},
   "outputs": [],
   "source": [
    "data['date'] = data['timestamp'].dt.date"
   ]
  },
  {
   "cell_type": "code",
   "execution_count": 19,
   "metadata": {},
   "outputs": [
    {
     "data": {
      "text/plain": [
       "checkin             223824\n",
       "searchResultPage    136234\n",
       "visitPage            40107\n",
       "Name: action, dtype: int64"
      ]
     },
     "execution_count": 19,
     "metadata": {},
     "output_type": "execute_result"
    }
   ],
   "source": [
    "data['action'].value_counts()"
   ]
  },
  {
   "cell_type": "markdown",
   "metadata": {},
   "source": [
    "## 1. What is their daily overall click through rate? How does it vary between the groups?"
   ]
  },
  {
   "cell_type": "code",
   "execution_count": 23,
   "metadata": {},
   "outputs": [
    {
     "data": {
      "text/html": [
       "<div>\n",
       "<style scoped>\n",
       "    .dataframe tbody tr th:only-of-type {\n",
       "        vertical-align: middle;\n",
       "    }\n",
       "\n",
       "    .dataframe tbody tr th {\n",
       "        vertical-align: top;\n",
       "    }\n",
       "\n",
       "    .dataframe thead th {\n",
       "        text-align: right;\n",
       "    }\n",
       "</style>\n",
       "<table border=\"1\" class=\"dataframe\">\n",
       "  <thead>\n",
       "    <tr style=\"text-align: right;\">\n",
       "      <th></th>\n",
       "      <th></th>\n",
       "      <th>action</th>\n",
       "      <th>checkin</th>\n",
       "      <th>searchResultPage</th>\n",
       "      <th>visitPage</th>\n",
       "    </tr>\n",
       "    <tr>\n",
       "      <th>date</th>\n",
       "      <th>group</th>\n",
       "      <th>session_id</th>\n",
       "      <th></th>\n",
       "      <th></th>\n",
       "      <th></th>\n",
       "    </tr>\n",
       "  </thead>\n",
       "  <tbody>\n",
       "    <tr>\n",
       "      <th rowspan=\"5\" valign=\"top\">2016-03-01</th>\n",
       "      <th rowspan=\"5\" valign=\"top\">a</th>\n",
       "      <th>001a3950cd4ac6c6</th>\n",
       "      <td>NaN</td>\n",
       "      <td>1.0</td>\n",
       "      <td>NaN</td>\n",
       "    </tr>\n",
       "    <tr>\n",
       "      <th>0024c4506bf92e1c</th>\n",
       "      <td>23.0</td>\n",
       "      <td>2.0</td>\n",
       "      <td>2.0</td>\n",
       "    </tr>\n",
       "    <tr>\n",
       "      <th>0024f4f005f34c9d</th>\n",
       "      <td>NaN</td>\n",
       "      <td>3.0</td>\n",
       "      <td>NaN</td>\n",
       "    </tr>\n",
       "    <tr>\n",
       "      <th>0029420a5f8c7d90</th>\n",
       "      <td>NaN</td>\n",
       "      <td>3.0</td>\n",
       "      <td>1.0</td>\n",
       "    </tr>\n",
       "    <tr>\n",
       "      <th>002b97995ca9ce77</th>\n",
       "      <td>2.0</td>\n",
       "      <td>3.0</td>\n",
       "      <td>2.0</td>\n",
       "    </tr>\n",
       "  </tbody>\n",
       "</table>\n",
       "</div>"
      ],
      "text/plain": [
       "action                             checkin  searchResultPage  visitPage\n",
       "date       group session_id                                            \n",
       "2016-03-01 a     001a3950cd4ac6c6      NaN               1.0        NaN\n",
       "                 0024c4506bf92e1c     23.0               2.0        2.0\n",
       "                 0024f4f005f34c9d      NaN               3.0        NaN\n",
       "                 0029420a5f8c7d90      NaN               3.0        1.0\n",
       "                 002b97995ca9ce77      2.0               3.0        2.0"
      ]
     },
     "execution_count": 23,
     "metadata": {},
     "output_type": "execute_result"
    }
   ],
   "source": [
    "session_summary = data[data['n_results'] != 0].groupby(['date','group', 'session_id', 'action']).size().unstack()\n",
    "session_summary.head()"
   ]
  },
  {
   "cell_type": "code",
   "execution_count": 24,
   "metadata": {},
   "outputs": [
    {
     "data": {
      "text/html": [
       "<div>\n",
       "<style scoped>\n",
       "    .dataframe tbody tr th:only-of-type {\n",
       "        vertical-align: middle;\n",
       "    }\n",
       "\n",
       "    .dataframe tbody tr th {\n",
       "        vertical-align: top;\n",
       "    }\n",
       "\n",
       "    .dataframe thead th {\n",
       "        text-align: right;\n",
       "    }\n",
       "</style>\n",
       "<table border=\"1\" class=\"dataframe\">\n",
       "  <thead>\n",
       "    <tr style=\"text-align: right;\">\n",
       "      <th></th>\n",
       "      <th>date</th>\n",
       "      <th>group</th>\n",
       "      <th>session_id</th>\n",
       "      <th>visitPage</th>\n",
       "    </tr>\n",
       "  </thead>\n",
       "  <tbody>\n",
       "    <tr>\n",
       "      <th>0</th>\n",
       "      <td>2016-03-01</td>\n",
       "      <td>a</td>\n",
       "      <td>001a3950cd4ac6c6</td>\n",
       "      <td>0</td>\n",
       "    </tr>\n",
       "    <tr>\n",
       "      <th>1</th>\n",
       "      <td>2016-03-01</td>\n",
       "      <td>a</td>\n",
       "      <td>0024c4506bf92e1c</td>\n",
       "      <td>1</td>\n",
       "    </tr>\n",
       "    <tr>\n",
       "      <th>2</th>\n",
       "      <td>2016-03-01</td>\n",
       "      <td>a</td>\n",
       "      <td>0024f4f005f34c9d</td>\n",
       "      <td>0</td>\n",
       "    </tr>\n",
       "    <tr>\n",
       "      <th>3</th>\n",
       "      <td>2016-03-01</td>\n",
       "      <td>a</td>\n",
       "      <td>0029420a5f8c7d90</td>\n",
       "      <td>1</td>\n",
       "    </tr>\n",
       "    <tr>\n",
       "      <th>4</th>\n",
       "      <td>2016-03-01</td>\n",
       "      <td>a</td>\n",
       "      <td>002b97995ca9ce77</td>\n",
       "      <td>1</td>\n",
       "    </tr>\n",
       "  </tbody>\n",
       "</table>\n",
       "</div>"
      ],
      "text/plain": [
       "         date group        session_id  visitPage\n",
       "0  2016-03-01     a  001a3950cd4ac6c6          0\n",
       "1  2016-03-01     a  0024c4506bf92e1c          1\n",
       "2  2016-03-01     a  0024f4f005f34c9d          0\n",
       "3  2016-03-01     a  0029420a5f8c7d90          1\n",
       "4  2016-03-01     a  002b97995ca9ce77          1"
      ]
     },
     "execution_count": 24,
     "metadata": {},
     "output_type": "execute_result"
    }
   ],
   "source": [
    "is_click_session = pd.DataFrame(session_summary['visitPage'].map(lambda x : 1 if x >= 1 else 0)).reset_index()\n",
    "is_click_session.head()"
   ]
  },
  {
   "cell_type": "code",
   "execution_count": 26,
   "metadata": {},
   "outputs": [
    {
     "data": {
      "text/plain": [
       "date\n",
       "2016-03-01    0.431018\n",
       "2016-03-02    0.441097\n",
       "2016-03-03    0.436237\n",
       "2016-03-04    0.447089\n",
       "2016-03-05    0.437957\n",
       "2016-03-06    0.443382\n",
       "2016-03-07    0.442960\n",
       "2016-03-08    0.440454\n",
       "Name: visitPage, dtype: float64"
      ]
     },
     "execution_count": 26,
     "metadata": {},
     "output_type": "execute_result"
    }
   ],
   "source": [
    "is_click_session.groupby('date')['visitPage'].mean()\n"
   ]
  },
  {
   "cell_type": "code",
   "execution_count": 27,
   "metadata": {},
   "outputs": [
    {
     "data": {
      "text/plain": [
       "date        group\n",
       "2016-03-01  a        0.708731\n",
       "            b        0.166826\n",
       "2016-03-02  a        0.714783\n",
       "            b        0.175078\n",
       "2016-03-03  a        0.707287\n",
       "            b        0.182242\n",
       "2016-03-04  a        0.706968\n",
       "            b        0.228593\n",
       "2016-03-05  a        0.681344\n",
       "            b        0.246196\n",
       "2016-03-06  a        0.710827\n",
       "            b        0.229570\n",
       "2016-03-07  a        0.691564\n",
       "            b        0.237365\n",
       "2016-03-08  a        0.699569\n",
       "            b        0.223111\n",
       "Name: visitPage, dtype: float64"
      ]
     },
     "execution_count": 27,
     "metadata": {},
     "output_type": "execute_result"
    }
   ],
   "source": [
    "is_click_session.groupby(['date', 'group'])['visitPage'].mean()"
   ]
  },
  {
   "cell_type": "markdown",
   "metadata": {},
   "source": [
    "## 2.Which result position do people tend to try first? How does it change day-to-day?"
   ]
  },
  {
   "cell_type": "code",
   "execution_count": 28,
   "metadata": {},
   "outputs": [],
   "source": [
    "result_pos_df = pd.DataFrame(data.groupby(['date', 'session_id'])['n_results'].size().sort_values().reset_index())"
   ]
  },
  {
   "cell_type": "code",
   "execution_count": 29,
   "metadata": {},
   "outputs": [
    {
     "data": {
      "text/html": [
       "<div>\n",
       "<style scoped>\n",
       "    .dataframe tbody tr th:only-of-type {\n",
       "        vertical-align: middle;\n",
       "    }\n",
       "\n",
       "    .dataframe tbody tr th {\n",
       "        vertical-align: top;\n",
       "    }\n",
       "\n",
       "    .dataframe thead th {\n",
       "        text-align: right;\n",
       "    }\n",
       "</style>\n",
       "<table border=\"1\" class=\"dataframe\">\n",
       "  <thead>\n",
       "    <tr style=\"text-align: right;\">\n",
       "      <th></th>\n",
       "      <th>index</th>\n",
       "      <th>n_results</th>\n",
       "    </tr>\n",
       "  </thead>\n",
       "  <tbody>\n",
       "    <tr>\n",
       "      <th>0</th>\n",
       "      <td>1</td>\n",
       "      <td>27628</td>\n",
       "    </tr>\n",
       "    <tr>\n",
       "      <th>1</th>\n",
       "      <td>2</td>\n",
       "      <td>8797</td>\n",
       "    </tr>\n",
       "    <tr>\n",
       "      <th>2</th>\n",
       "      <td>3</td>\n",
       "      <td>5281</td>\n",
       "    </tr>\n",
       "    <tr>\n",
       "      <th>3</th>\n",
       "      <td>17</td>\n",
       "      <td>3428</td>\n",
       "    </tr>\n",
       "    <tr>\n",
       "      <th>4</th>\n",
       "      <td>4</td>\n",
       "      <td>3190</td>\n",
       "    </tr>\n",
       "  </tbody>\n",
       "</table>\n",
       "</div>"
      ],
      "text/plain": [
       "   index  n_results\n",
       "0      1      27628\n",
       "1      2       8797\n",
       "2      3       5281\n",
       "3     17       3428\n",
       "4      4       3190"
      ]
     },
     "execution_count": 29,
     "metadata": {},
     "output_type": "execute_result"
    }
   ],
   "source": [
    "result_pos_df['n_results'].value_counts().reset_index().head()"
   ]
  },
  {
   "cell_type": "code",
   "execution_count": 30,
   "metadata": {},
   "outputs": [
    {
     "data": {
      "text/plain": [
       "<matplotlib.axes._subplots.AxesSubplot at 0x1b3ac137a90>"
      ]
     },
     "execution_count": 30,
     "metadata": {},
     "output_type": "execute_result"
    },
    {
     "data": {
      "image/png": "[encoded data removed]",
      "text/plain": [
       "<Figure size 432x288 with 1 Axes>"
      ]
     },
     "metadata": {},
     "output_type": "display_data"
    }
   ],
   "source": [
    "result_pos_df['n_results'].value_counts().reset_index().head(15).plot(x = 'index', y = 'n_results', kind = 'scatter')"
   ]
  },
  {
   "cell_type": "code",
   "execution_count": 31,
   "metadata": {},
   "outputs": [
    {
     "data": {
      "text/html": [
       "<div>\n",
       "<style scoped>\n",
       "    .dataframe tbody tr th:only-of-type {\n",
       "        vertical-align: middle;\n",
       "    }\n",
       "\n",
       "    .dataframe tbody tr th {\n",
       "        vertical-align: top;\n",
       "    }\n",
       "\n",
       "    .dataframe thead th {\n",
       "        text-align: right;\n",
       "    }\n",
       "</style>\n",
       "<table border=\"1\" class=\"dataframe\">\n",
       "  <thead>\n",
       "    <tr style=\"text-align: right;\">\n",
       "      <th></th>\n",
       "      <th>date</th>\n",
       "      <th>session_id</th>\n",
       "      <th>day</th>\n",
       "      <th>n_results</th>\n",
       "    </tr>\n",
       "  </thead>\n",
       "  <tbody>\n",
       "    <tr>\n",
       "      <th>0</th>\n",
       "      <td>2016-03-01</td>\n",
       "      <td>000936ae06d62383</td>\n",
       "      <td>Tuesday</td>\n",
       "      <td>1</td>\n",
       "    </tr>\n",
       "    <tr>\n",
       "      <th>1</th>\n",
       "      <td>2016-03-04</td>\n",
       "      <td>f97c05f2ce4db3db</td>\n",
       "      <td>Friday</td>\n",
       "      <td>1</td>\n",
       "    </tr>\n",
       "    <tr>\n",
       "      <th>2</th>\n",
       "      <td>2016-03-04</td>\n",
       "      <td>f984f7904e88d5c9</td>\n",
       "      <td>Friday</td>\n",
       "      <td>1</td>\n",
       "    </tr>\n",
       "    <tr>\n",
       "      <th>3</th>\n",
       "      <td>2016-03-04</td>\n",
       "      <td>f99012ff69acc624</td>\n",
       "      <td>Friday</td>\n",
       "      <td>1</td>\n",
       "    </tr>\n",
       "    <tr>\n",
       "      <th>4</th>\n",
       "      <td>2016-03-04</td>\n",
       "      <td>f99d48c811a8429e</td>\n",
       "      <td>Friday</td>\n",
       "      <td>1</td>\n",
       "    </tr>\n",
       "  </tbody>\n",
       "</table>\n",
       "</div>"
      ],
      "text/plain": [
       "         date        session_id      day  n_results\n",
       "0  2016-03-01  000936ae06d62383  Tuesday          1\n",
       "1  2016-03-04  f97c05f2ce4db3db   Friday          1\n",
       "2  2016-03-04  f984f7904e88d5c9   Friday          1\n",
       "3  2016-03-04  f99012ff69acc624   Friday          1\n",
       "4  2016-03-04  f99d48c811a8429e   Friday          1"
      ]
     },
     "execution_count": 31,
     "metadata": {},
     "output_type": "execute_result"
    }
   ],
   "source": [
    "d= pd.DataFrame(data.groupby(['date', 'session_id', 'day'])['n_results'].size().sort_values().reset_index())\n",
    "d.head()"
   ]
  },
  {
   "cell_type": "code",
   "execution_count": 32,
   "metadata": {},
   "outputs": [
    {
     "data": {
      "text/plain": [
       "Text(0.5,1,'Dailywise Variation in First Result Selection by user ')"
      ]
     },
     "execution_count": 32,
     "metadata": {},
     "output_type": "execute_result"
    },
    {
     "data": {
      "image/png": "[encoded data removed]",
      "text/plain": [
       "<Figure size 432x288 with 1 Axes>"
      ]
     },
     "metadata": {},
     "output_type": "display_data"
    }
   ],
   "source": [
    "daywise_resultpos = d[d.n_results == 1].groupby(['day'])['n_results'].size().plot(kind = 'bar')\n",
    "daywise_resultpos.set_xlabel(\"Day\")\n",
    "daywise_resultpos.set_ylabel(\"Count of first selection\")\n",
    "daywise_resultpos.set_title(\"Dailywise Variation in First Result Selection by user \")"
   ]
  },
  {
   "cell_type": "code",
   "execution_count": null,
   "metadata": {},
   "outputs": [],
   "source": []
  },
  {
   "cell_type": "markdown",
   "metadata": {},
   "source": [
    "## 3. What is their daily overall zero results rate? How does it vary between the groups?"
   ]
  },
  {
   "cell_type": "code",
   "execution_count": 39,
   "metadata": {},
   "outputs": [],
   "source": [
    "d = data[data['n_results'] == 0]\n",
    "zero_result = pd.DataFrame(d.groupby(['date', 'session_id'])['n_results'].size().reset_index()).rename(columns = {'n_results' : 'zero_results'})\n",
    "all_result = pd.DataFrame(data.groupby(['date', 'session_id'])['n_results'].size().reset_index()).rename(columns = {'n_results' : 'all_results'})"
   ]
  },
  {
   "cell_type": "code",
   "execution_count": 40,
   "metadata": {},
   "outputs": [],
   "source": [
    "result = pd.merge(zero_result, all_result, on=['date', 'session_id'])"
   ]
  },
  {
   "cell_type": "code",
   "execution_count": 43,
   "metadata": {},
   "outputs": [
    {
     "data": {
      "text/html": [
       "<div>\n",
       "<style scoped>\n",
       "    .dataframe tbody tr th:only-of-type {\n",
       "        vertical-align: middle;\n",
       "    }\n",
       "\n",
       "    .dataframe tbody tr th {\n",
       "        vertical-align: top;\n",
       "    }\n",
       "\n",
       "    .dataframe thead th {\n",
       "        text-align: right;\n",
       "    }\n",
       "</style>\n",
       "<table border=\"1\" class=\"dataframe\">\n",
       "  <thead>\n",
       "    <tr style=\"text-align: right;\">\n",
       "      <th></th>\n",
       "      <th>date</th>\n",
       "      <th>session_id</th>\n",
       "      <th>zero_results</th>\n",
       "      <th>all_results</th>\n",
       "      <th>zero_result_rate</th>\n",
       "    </tr>\n",
       "  </thead>\n",
       "  <tbody>\n",
       "    <tr>\n",
       "      <th>0</th>\n",
       "      <td>2016-03-01</td>\n",
       "      <td>001a3950cd4ac6c6</td>\n",
       "      <td>4</td>\n",
       "      <td>5</td>\n",
       "      <td>80.0</td>\n",
       "    </tr>\n",
       "    <tr>\n",
       "      <th>1</th>\n",
       "      <td>2016-03-01</td>\n",
       "      <td>00429c6a475ab250</td>\n",
       "      <td>1</td>\n",
       "      <td>1</td>\n",
       "      <td>100.0</td>\n",
       "    </tr>\n",
       "    <tr>\n",
       "      <th>2</th>\n",
       "      <td>2016-03-01</td>\n",
       "      <td>00528f41689a87eb</td>\n",
       "      <td>2</td>\n",
       "      <td>2</td>\n",
       "      <td>100.0</td>\n",
       "    </tr>\n",
       "    <tr>\n",
       "      <th>3</th>\n",
       "      <td>2016-03-01</td>\n",
       "      <td>005522d0fb5a2b0a</td>\n",
       "      <td>1</td>\n",
       "      <td>5</td>\n",
       "      <td>20.0</td>\n",
       "    </tr>\n",
       "    <tr>\n",
       "      <th>4</th>\n",
       "      <td>2016-03-01</td>\n",
       "      <td>005febb3441161da</td>\n",
       "      <td>1</td>\n",
       "      <td>1</td>\n",
       "      <td>100.0</td>\n",
       "    </tr>\n",
       "  </tbody>\n",
       "</table>\n",
       "</div>"
      ],
      "text/plain": [
       "         date        session_id  zero_results  all_results  zero_result_rate\n",
       "0  2016-03-01  001a3950cd4ac6c6             4            5              80.0\n",
       "1  2016-03-01  00429c6a475ab250             1            1             100.0\n",
       "2  2016-03-01  00528f41689a87eb             2            2             100.0\n",
       "3  2016-03-01  005522d0fb5a2b0a             1            5              20.0\n",
       "4  2016-03-01  005febb3441161da             1            1             100.0"
      ]
     },
     "execution_count": 43,
     "metadata": {},
     "output_type": "execute_result"
    }
   ],
   "source": [
    "result['zero_result_rate'] = result['zero_results']/result['all_results']*100\n",
    "result.head()"
   ]
  },
  {
   "cell_type": "code",
   "execution_count": 44,
   "metadata": {},
   "outputs": [],
   "source": [
    "d = data[data['n_results'] == 0]\n",
    "zero_result = pd.DataFrame(d.groupby(['date', 'session_id', 'group'])['n_results'].size().reset_index()).rename(columns = {'n_results' : 'zero_results'})\n",
    "all_result = pd.DataFrame(data.groupby(['date', 'session_id', 'group'])['n_results'].size().reset_index()).rename(columns = {'n_results' : 'all_results'})"
   ]
  },
  {
   "cell_type": "code",
   "execution_count": 45,
   "metadata": {},
   "outputs": [],
   "source": [
    "result = pd.merge(zero_result, all_result, on=['date', 'session_id', 'group'])"
   ]
  },
  {
   "cell_type": "code",
   "execution_count": 49,
   "metadata": {},
   "outputs": [
    {
     "data": {
      "text/plain": [
       "group\n",
       "a    45.350762\n",
       "b    92.933896\n",
       "Name: zero_result_rate, dtype: float64"
      ]
     },
     "execution_count": 49,
     "metadata": {},
     "output_type": "execute_result"
    }
   ],
   "source": [
    "result['zero_result_rate'] = result['zero_results']/result['all_results']*100\n",
    "result.groupby(['group'])['zero_result_rate'].mean()"
   ]
  },
  {
   "cell_type": "markdown",
   "metadata": {},
   "source": [
    "## 4.\tLet session length be approximately the time between the first event and the last event in a session. Choose a variable from the dataset and describe its relationship to session length. Visualize the relationship."
   ]
  },
  {
   "cell_type": "code",
   "execution_count": 50,
   "metadata": {},
   "outputs": [],
   "source": [
    "max_dt = pd.DataFrame(data.groupby(['date', 'session_id'])['timestamp'].max()).rename(columns = {'timestamp' : 'max_dt'})\n",
    "min_dt = pd.DataFrame(data.groupby(['date', 'session_id'])['timestamp'].min()).rename(columns = {'timestamp' : 'min_dt'})"
   ]
  },
  {
   "cell_type": "code",
   "execution_count": 51,
   "metadata": {},
   "outputs": [],
   "source": [
    "checkin = pd.DataFrame(data.groupby(['date', 'session_id'])['checkin'].sum())\n",
    "session_df = pd.concat([max_dt, min_dt, checkin], axis=1, sort=False)"
   ]
  },
  {
   "cell_type": "code",
   "execution_count": 52,
   "metadata": {},
   "outputs": [],
   "source": [
    "from datetime import timedelta\n",
    "session_df['session_length'] = session_df['max_dt'] - session_df['min_dt']"
   ]
  },
  {
   "cell_type": "code",
   "execution_count": 53,
   "metadata": {},
   "outputs": [
    {
     "data": {
      "text/html": [
       "<div>\n",
       "<style scoped>\n",
       "    .dataframe tbody tr th:only-of-type {\n",
       "        vertical-align: middle;\n",
       "    }\n",
       "\n",
       "    .dataframe tbody tr th {\n",
       "        vertical-align: top;\n",
       "    }\n",
       "\n",
       "    .dataframe thead th {\n",
       "        text-align: right;\n",
       "    }\n",
       "</style>\n",
       "<table border=\"1\" class=\"dataframe\">\n",
       "  <thead>\n",
       "    <tr style=\"text-align: right;\">\n",
       "      <th></th>\n",
       "      <th></th>\n",
       "      <th>max_dt</th>\n",
       "      <th>min_dt</th>\n",
       "      <th>checkin</th>\n",
       "      <th>session_length</th>\n",
       "    </tr>\n",
       "    <tr>\n",
       "      <th>date</th>\n",
       "      <th>session_id</th>\n",
       "      <th></th>\n",
       "      <th></th>\n",
       "      <th></th>\n",
       "      <th></th>\n",
       "    </tr>\n",
       "  </thead>\n",
       "  <tbody>\n",
       "    <tr>\n",
       "      <th rowspan=\"30\" valign=\"top\">2016-03-01</th>\n",
       "      <th>000936ae06d62383</th>\n",
       "      <td>2016-03-01 12:36:54</td>\n",
       "      <td>2016-03-01 12:36:54</td>\n",
       "      <td>0.0</td>\n",
       "      <td>00:00:00</td>\n",
       "    </tr>\n",
       "    <tr>\n",
       "      <th>001544bc03fac3e8</th>\n",
       "      <td>2016-03-01 11:36:18</td>\n",
       "      <td>2016-03-01 11:35:58</td>\n",
       "      <td>0.0</td>\n",
       "      <td>00:00:20</td>\n",
       "    </tr>\n",
       "    <tr>\n",
       "      <th>001a3950cd4ac6c6</th>\n",
       "      <td>2016-03-01 18:08:48</td>\n",
       "      <td>2016-03-01 18:08:06</td>\n",
       "      <td>0.0</td>\n",
       "      <td>00:00:42</td>\n",
       "    </tr>\n",
       "    <tr>\n",
       "      <th>001e2d0e159172d2</th>\n",
       "      <td>2016-03-01 00:43:35</td>\n",
       "      <td>2016-03-01 00:43:21</td>\n",
       "      <td>10.0</td>\n",
       "      <td>00:00:14</td>\n",
       "    </tr>\n",
       "    <tr>\n",
       "      <th>0022bba0634595b9</th>\n",
       "      <td>2016-03-01 03:37:39</td>\n",
       "      <td>2016-03-01 03:37:39</td>\n",
       "      <td>0.0</td>\n",
       "      <td>00:00:00</td>\n",
       "    </tr>\n",
       "    <tr>\n",
       "      <th>0024c4506bf92e1c</th>\n",
       "      <td>2016-03-01 07:02:28</td>\n",
       "      <td>2016-03-01 06:52:21</td>\n",
       "      <td>2700.0</td>\n",
       "      <td>00:10:07</td>\n",
       "    </tr>\n",
       "    <tr>\n",
       "      <th>0024f4f005f34c9d</th>\n",
       "      <td>2016-03-01 10:27:12</td>\n",
       "      <td>2016-03-01 10:25:17</td>\n",
       "      <td>0.0</td>\n",
       "      <td>00:01:55</td>\n",
       "    </tr>\n",
       "    <tr>\n",
       "      <th>002601319d1a02e1</th>\n",
       "      <td>2016-03-01 11:43:01</td>\n",
       "      <td>2016-03-01 11:43:01</td>\n",
       "      <td>0.0</td>\n",
       "      <td>00:00:00</td>\n",
       "    </tr>\n",
       "    <tr>\n",
       "      <th>0029420a5f8c7d90</th>\n",
       "      <td>2016-03-01 20:42:03</td>\n",
       "      <td>2016-03-01 20:41:46</td>\n",
       "      <td>0.0</td>\n",
       "      <td>00:00:17</td>\n",
       "    </tr>\n",
       "    <tr>\n",
       "      <th>002ad4609eedc350</th>\n",
       "      <td>2016-03-01 19:48:05</td>\n",
       "      <td>2016-03-01 19:48:05</td>\n",
       "      <td>0.0</td>\n",
       "      <td>00:00:00</td>\n",
       "    </tr>\n",
       "    <tr>\n",
       "      <th>002b97995ca9ce77</th>\n",
       "      <td>2016-03-01 06:58:29</td>\n",
       "      <td>2016-03-01 06:56:58</td>\n",
       "      <td>20.0</td>\n",
       "      <td>00:01:31</td>\n",
       "    </tr>\n",
       "    <tr>\n",
       "      <th>003037c8d3c3fe94</th>\n",
       "      <td>2016-03-01 13:30:07</td>\n",
       "      <td>2016-03-01 13:28:33</td>\n",
       "      <td>60.0</td>\n",
       "      <td>00:01:34</td>\n",
       "    </tr>\n",
       "    <tr>\n",
       "      <th>003f93d4791463c9</th>\n",
       "      <td>2016-03-01 11:23:52</td>\n",
       "      <td>2016-03-01 11:23:52</td>\n",
       "      <td>0.0</td>\n",
       "      <td>00:00:00</td>\n",
       "    </tr>\n",
       "    <tr>\n",
       "      <th>00429c6a475ab250</th>\n",
       "      <td>2016-03-01 17:18:28</td>\n",
       "      <td>2016-03-01 17:18:28</td>\n",
       "      <td>0.0</td>\n",
       "      <td>00:00:00</td>\n",
       "    </tr>\n",
       "    <tr>\n",
       "      <th>0044acabd5f6f179</th>\n",
       "      <td>2016-03-01 23:53:52</td>\n",
       "      <td>2016-03-01 23:53:27</td>\n",
       "      <td>30.0</td>\n",
       "      <td>00:00:25</td>\n",
       "    </tr>\n",
       "    <tr>\n",
       "      <th>00528f41689a87eb</th>\n",
       "      <td>2016-03-01 12:41:01</td>\n",
       "      <td>2016-03-01 12:40:21</td>\n",
       "      <td>0.0</td>\n",
       "      <td>00:00:40</td>\n",
       "    </tr>\n",
       "    <tr>\n",
       "      <th>005522d0fb5a2b0a</th>\n",
       "      <td>2016-03-01 08:28:57</td>\n",
       "      <td>2016-03-01 08:28:01</td>\n",
       "      <td>0.0</td>\n",
       "      <td>00:00:56</td>\n",
       "    </tr>\n",
       "    <tr>\n",
       "      <th>005febb3441161da</th>\n",
       "      <td>2016-03-01 17:04:18</td>\n",
       "      <td>2016-03-01 17:04:18</td>\n",
       "      <td>0.0</td>\n",
       "      <td>00:00:00</td>\n",
       "    </tr>\n",
       "    <tr>\n",
       "      <th>006504a6e17cd937</th>\n",
       "      <td>2016-03-01 16:36:39</td>\n",
       "      <td>2016-03-01 16:33:45</td>\n",
       "      <td>0.0</td>\n",
       "      <td>00:02:54</td>\n",
       "    </tr>\n",
       "    <tr>\n",
       "      <th>006dc4ea61a54213</th>\n",
       "      <td>2016-03-01 08:40:20</td>\n",
       "      <td>2016-03-01 08:40:20</td>\n",
       "      <td>0.0</td>\n",
       "      <td>00:00:00</td>\n",
       "    </tr>\n",
       "    <tr>\n",
       "      <th>00755fe48b066e95</th>\n",
       "      <td>2016-03-01 19:27:19</td>\n",
       "      <td>2016-03-01 19:26:00</td>\n",
       "      <td>150.0</td>\n",
       "      <td>00:01:19</td>\n",
       "    </tr>\n",
       "    <tr>\n",
       "      <th>00779edb937f57af</th>\n",
       "      <td>2016-03-01 18:00:39</td>\n",
       "      <td>2016-03-01 18:00:39</td>\n",
       "      <td>0.0</td>\n",
       "      <td>00:00:00</td>\n",
       "    </tr>\n",
       "    <tr>\n",
       "      <th>008a7074fa94c05c</th>\n",
       "      <td>2016-03-01 16:45:38</td>\n",
       "      <td>2016-03-01 16:38:33</td>\n",
       "      <td>10.0</td>\n",
       "      <td>00:07:05</td>\n",
       "    </tr>\n",
       "    <tr>\n",
       "      <th>008f0c9a837b399d</th>\n",
       "      <td>2016-03-01 12:04:12</td>\n",
       "      <td>2016-03-01 12:02:32</td>\n",
       "      <td>300.0</td>\n",
       "      <td>00:01:40</td>\n",
       "    </tr>\n",
       "    <tr>\n",
       "      <th>0093f0b5ae8e4ceb</th>\n",
       "      <td>2016-03-01 19:17:59</td>\n",
       "      <td>2016-03-01 19:10:51</td>\n",
       "      <td>2280.0</td>\n",
       "      <td>00:07:08</td>\n",
       "    </tr>\n",
       "    <tr>\n",
       "      <th>00961b898666d4ef</th>\n",
       "      <td>2016-03-01 13:54:54</td>\n",
       "      <td>2016-03-01 13:54:54</td>\n",
       "      <td>0.0</td>\n",
       "      <td>00:00:00</td>\n",
       "    </tr>\n",
       "    <tr>\n",
       "      <th>00985aca9ed9a8e8</th>\n",
       "      <td>2016-03-01 08:59:32</td>\n",
       "      <td>2016-03-01 08:59:32</td>\n",
       "      <td>0.0</td>\n",
       "      <td>00:00:00</td>\n",
       "    </tr>\n",
       "    <tr>\n",
       "      <th>009f85ff9e749ee9</th>\n",
       "      <td>2016-03-01 13:32:13</td>\n",
       "      <td>2016-03-01 13:32:13</td>\n",
       "      <td>0.0</td>\n",
       "      <td>00:00:00</td>\n",
       "    </tr>\n",
       "    <tr>\n",
       "      <th>00a060fe4c607df4</th>\n",
       "      <td>2016-03-01 16:24:03</td>\n",
       "      <td>2016-03-01 16:24:03</td>\n",
       "      <td>0.0</td>\n",
       "      <td>00:00:00</td>\n",
       "    </tr>\n",
       "    <tr>\n",
       "      <th>00b764358fa2b96a</th>\n",
       "      <td>2016-03-01 02:21:28</td>\n",
       "      <td>2016-03-01 02:21:28</td>\n",
       "      <td>0.0</td>\n",
       "      <td>00:00:00</td>\n",
       "    </tr>\n",
       "    <tr>\n",
       "      <th>...</th>\n",
       "      <th>...</th>\n",
       "      <td>...</td>\n",
       "      <td>...</td>\n",
       "      <td>...</td>\n",
       "      <td>...</td>\n",
       "    </tr>\n",
       "    <tr>\n",
       "      <th rowspan=\"30\" valign=\"top\">2016-03-08</th>\n",
       "      <th>ff5c65d680935511</th>\n",
       "      <td>2016-03-08 16:10:19</td>\n",
       "      <td>2016-03-08 16:09:49</td>\n",
       "      <td>0.0</td>\n",
       "      <td>00:00:30</td>\n",
       "    </tr>\n",
       "    <tr>\n",
       "      <th>ff5e44a76d3d07cf</th>\n",
       "      <td>2016-03-08 02:40:24</td>\n",
       "      <td>2016-03-08 02:40:13</td>\n",
       "      <td>0.0</td>\n",
       "      <td>00:00:11</td>\n",
       "    </tr>\n",
       "    <tr>\n",
       "      <th>ff634e2192e1a9b5</th>\n",
       "      <td>2016-03-08 02:23:42</td>\n",
       "      <td>2016-03-08 02:23:00</td>\n",
       "      <td>0.0</td>\n",
       "      <td>00:00:42</td>\n",
       "    </tr>\n",
       "    <tr>\n",
       "      <th>ff6661598e76b950</th>\n",
       "      <td>2016-03-08 17:05:40</td>\n",
       "      <td>2016-03-08 17:05:40</td>\n",
       "      <td>0.0</td>\n",
       "      <td>00:00:00</td>\n",
       "    </tr>\n",
       "    <tr>\n",
       "      <th>ff704f81b3a295e4</th>\n",
       "      <td>2016-03-08 20:23:33</td>\n",
       "      <td>2016-03-08 20:22:49</td>\n",
       "      <td>60.0</td>\n",
       "      <td>00:00:44</td>\n",
       "    </tr>\n",
       "    <tr>\n",
       "      <th>ff731b76b7a54ada</th>\n",
       "      <td>2016-03-08 17:28:11</td>\n",
       "      <td>2016-03-08 17:28:11</td>\n",
       "      <td>0.0</td>\n",
       "      <td>00:00:00</td>\n",
       "    </tr>\n",
       "    <tr>\n",
       "      <th>ff7dfae55c771ea9</th>\n",
       "      <td>2016-03-08 10:08:49</td>\n",
       "      <td>2016-03-08 10:07:49</td>\n",
       "      <td>0.0</td>\n",
       "      <td>00:01:00</td>\n",
       "    </tr>\n",
       "    <tr>\n",
       "      <th>ff810b54386c28d9</th>\n",
       "      <td>2016-03-08 00:02:00</td>\n",
       "      <td>2016-03-08 00:02:00</td>\n",
       "      <td>0.0</td>\n",
       "      <td>00:00:00</td>\n",
       "    </tr>\n",
       "    <tr>\n",
       "      <th>ff8fdb513e1b4c51</th>\n",
       "      <td>2016-03-08 13:40:08</td>\n",
       "      <td>2016-03-08 13:38:32</td>\n",
       "      <td>0.0</td>\n",
       "      <td>00:01:36</td>\n",
       "    </tr>\n",
       "    <tr>\n",
       "      <th>ff90fbbdc2d33351</th>\n",
       "      <td>2016-03-08 09:18:39</td>\n",
       "      <td>2016-03-08 09:15:47</td>\n",
       "      <td>0.0</td>\n",
       "      <td>00:02:52</td>\n",
       "    </tr>\n",
       "    <tr>\n",
       "      <th>ff97099a41b39f77</th>\n",
       "      <td>2016-03-08 00:07:35</td>\n",
       "      <td>2016-03-08 00:07:35</td>\n",
       "      <td>0.0</td>\n",
       "      <td>00:00:00</td>\n",
       "    </tr>\n",
       "    <tr>\n",
       "      <th>ff9a5029d34afa8d</th>\n",
       "      <td>2016-03-08 17:38:37</td>\n",
       "      <td>2016-03-08 17:38:37</td>\n",
       "      <td>0.0</td>\n",
       "      <td>00:00:00</td>\n",
       "    </tr>\n",
       "    <tr>\n",
       "      <th>ffb09400502253e7</th>\n",
       "      <td>2016-03-08 13:07:05</td>\n",
       "      <td>2016-03-08 13:07:05</td>\n",
       "      <td>0.0</td>\n",
       "      <td>00:00:00</td>\n",
       "    </tr>\n",
       "    <tr>\n",
       "      <th>ffb35a1dfd2404db</th>\n",
       "      <td>2016-03-08 18:06:22</td>\n",
       "      <td>2016-03-08 18:04:44</td>\n",
       "      <td>0.0</td>\n",
       "      <td>00:01:38</td>\n",
       "    </tr>\n",
       "    <tr>\n",
       "      <th>ffb580658bdd9c45</th>\n",
       "      <td>2016-03-08 01:29:35</td>\n",
       "      <td>2016-03-08 01:29:35</td>\n",
       "      <td>0.0</td>\n",
       "      <td>00:00:00</td>\n",
       "    </tr>\n",
       "    <tr>\n",
       "      <th>ffb5b85824119c65</th>\n",
       "      <td>2016-03-08 16:09:57</td>\n",
       "      <td>2016-03-08 16:09:13</td>\n",
       "      <td>60.0</td>\n",
       "      <td>00:00:44</td>\n",
       "    </tr>\n",
       "    <tr>\n",
       "      <th>ffb7593c701f2e21</th>\n",
       "      <td>2016-03-08 14:12:06</td>\n",
       "      <td>2016-03-08 14:12:04</td>\n",
       "      <td>0.0</td>\n",
       "      <td>00:00:02</td>\n",
       "    </tr>\n",
       "    <tr>\n",
       "      <th>ffbb0bdb82fd9df2</th>\n",
       "      <td>2016-03-08 15:14:32</td>\n",
       "      <td>2016-03-08 15:14:32</td>\n",
       "      <td>0.0</td>\n",
       "      <td>00:00:00</td>\n",
       "    </tr>\n",
       "    <tr>\n",
       "      <th>ffbb68ac83a377ac</th>\n",
       "      <td>2016-03-08 16:22:24</td>\n",
       "      <td>2016-03-08 16:13:05</td>\n",
       "      <td>2280.0</td>\n",
       "      <td>00:09:19</td>\n",
       "    </tr>\n",
       "    <tr>\n",
       "      <th>ffc8e9affd1f6770</th>\n",
       "      <td>2016-03-08 10:19:47</td>\n",
       "      <td>2016-03-08 10:19:20</td>\n",
       "      <td>0.0</td>\n",
       "      <td>00:00:27</td>\n",
       "    </tr>\n",
       "    <tr>\n",
       "      <th>ffc95b21055eda2e</th>\n",
       "      <td>2016-03-08 15:37:54</td>\n",
       "      <td>2016-03-08 15:37:54</td>\n",
       "      <td>0.0</td>\n",
       "      <td>00:00:00</td>\n",
       "    </tr>\n",
       "    <tr>\n",
       "      <th>ffd303cada56494e</th>\n",
       "      <td>2016-03-08 17:17:06</td>\n",
       "      <td>2016-03-08 17:16:42</td>\n",
       "      <td>0.0</td>\n",
       "      <td>00:00:24</td>\n",
       "    </tr>\n",
       "    <tr>\n",
       "      <th>ffd6e8d2da9a5b2f</th>\n",
       "      <td>2016-03-08 17:07:04</td>\n",
       "      <td>2016-03-08 17:06:55</td>\n",
       "      <td>0.0</td>\n",
       "      <td>00:00:09</td>\n",
       "    </tr>\n",
       "    <tr>\n",
       "      <th>ffd721ed5e9aec8e</th>\n",
       "      <td>2016-03-08 09:01:58</td>\n",
       "      <td>2016-03-08 09:01:58</td>\n",
       "      <td>0.0</td>\n",
       "      <td>00:00:00</td>\n",
       "    </tr>\n",
       "    <tr>\n",
       "      <th>ffdd549708b44dd3</th>\n",
       "      <td>2016-03-08 18:55:06</td>\n",
       "      <td>2016-03-08 18:54:10</td>\n",
       "      <td>150.0</td>\n",
       "      <td>00:00:56</td>\n",
       "    </tr>\n",
       "    <tr>\n",
       "      <th>ffdf5d155e9b5c19</th>\n",
       "      <td>2016-03-08 11:34:25</td>\n",
       "      <td>2016-03-08 11:23:42</td>\n",
       "      <td>1200.0</td>\n",
       "      <td>00:10:43</td>\n",
       "    </tr>\n",
       "    <tr>\n",
       "      <th>ffdfd6a8ffbbee8a</th>\n",
       "      <td>2016-03-08 08:00:48</td>\n",
       "      <td>2016-03-08 08:00:48</td>\n",
       "      <td>0.0</td>\n",
       "      <td>00:00:00</td>\n",
       "    </tr>\n",
       "    <tr>\n",
       "      <th>ffe1a14d4565573d</th>\n",
       "      <td>2016-03-08 15:25:41</td>\n",
       "      <td>2016-03-08 15:18:39</td>\n",
       "      <td>2280.0</td>\n",
       "      <td>00:07:02</td>\n",
       "    </tr>\n",
       "    <tr>\n",
       "      <th>fffa387663722d38</th>\n",
       "      <td>2016-03-08 13:36:05</td>\n",
       "      <td>2016-03-08 13:36:05</td>\n",
       "      <td>0.0</td>\n",
       "      <td>00:00:00</td>\n",
       "    </tr>\n",
       "    <tr>\n",
       "      <th>fffac2c4111308d0</th>\n",
       "      <td>2016-03-08 03:27:08</td>\n",
       "      <td>2016-03-08 03:27:08</td>\n",
       "      <td>0.0</td>\n",
       "      <td>00:00:00</td>\n",
       "    </tr>\n",
       "  </tbody>\n",
       "</table>\n",
       "<p>68111 rows × 4 columns</p>\n",
       "</div>"
      ],
      "text/plain": [
       "                                         max_dt              min_dt  checkin  \\\n",
       "date       session_id                                                          \n",
       "2016-03-01 000936ae06d62383 2016-03-01 12:36:54 2016-03-01 12:36:54      0.0   \n",
       "           001544bc03fac3e8 2016-03-01 11:36:18 2016-03-01 11:35:58      0.0   \n",
       "           001a3950cd4ac6c6 2016-03-01 18:08:48 2016-03-01 18:08:06      0.0   \n",
       "           001e2d0e159172d2 2016-03-01 00:43:35 2016-03-01 00:43:21     10.0   \n",
       "           0022bba0634595b9 2016-03-01 03:37:39 2016-03-01 03:37:39      0.0   \n",
       "           0024c4506bf92e1c 2016-03-01 07:02:28 2016-03-01 06:52:21   2700.0   \n",
       "           0024f4f005f34c9d 2016-03-01 10:27:12 2016-03-01 10:25:17      0.0   \n",
       "           002601319d1a02e1 2016-03-01 11:43:01 2016-03-01 11:43:01      0.0   \n",
       "           0029420a5f8c7d90 2016-03-01 20:42:03 2016-03-01 20:41:46      0.0   \n",
       "           002ad4609eedc350 2016-03-01 19:48:05 2016-03-01 19:48:05      0.0   \n",
       "           002b97995ca9ce77 2016-03-01 06:58:29 2016-03-01 06:56:58     20.0   \n",
       "           003037c8d3c3fe94 2016-03-01 13:30:07 2016-03-01 13:28:33     60.0   \n",
       "           003f93d4791463c9 2016-03-01 11:23:52 2016-03-01 11:23:52      0.0   \n",
       "           00429c6a475ab250 2016-03-01 17:18:28 2016-03-01 17:18:28      0.0   \n",
       "           0044acabd5f6f179 2016-03-01 23:53:52 2016-03-01 23:53:27     30.0   \n",
       "           00528f41689a87eb 2016-03-01 12:41:01 2016-03-01 12:40:21      0.0   \n",
       "           005522d0fb5a2b0a 2016-03-01 08:28:57 2016-03-01 08:28:01      0.0   \n",
       "           005febb3441161da 2016-03-01 17:04:18 2016-03-01 17:04:18      0.0   \n",
       "           006504a6e17cd937 2016-03-01 16:36:39 2016-03-01 16:33:45      0.0   \n",
       "           006dc4ea61a54213 2016-03-01 08:40:20 2016-03-01 08:40:20      0.0   \n",
       "           00755fe48b066e95 2016-03-01 19:27:19 2016-03-01 19:26:00    150.0   \n",
       "           00779edb937f57af 2016-03-01 18:00:39 2016-03-01 18:00:39      0.0   \n",
       "           008a7074fa94c05c 2016-03-01 16:45:38 2016-03-01 16:38:33     10.0   \n",
       "           008f0c9a837b399d 2016-03-01 12:04:12 2016-03-01 12:02:32    300.0   \n",
       "           0093f0b5ae8e4ceb 2016-03-01 19:17:59 2016-03-01 19:10:51   2280.0   \n",
       "           00961b898666d4ef 2016-03-01 13:54:54 2016-03-01 13:54:54      0.0   \n",
       "           00985aca9ed9a8e8 2016-03-01 08:59:32 2016-03-01 08:59:32      0.0   \n",
       "           009f85ff9e749ee9 2016-03-01 13:32:13 2016-03-01 13:32:13      0.0   \n",
       "           00a060fe4c607df4 2016-03-01 16:24:03 2016-03-01 16:24:03      0.0   \n",
       "           00b764358fa2b96a 2016-03-01 02:21:28 2016-03-01 02:21:28      0.0   \n",
       "...                                         ...                 ...      ...   \n",
       "2016-03-08 ff5c65d680935511 2016-03-08 16:10:19 2016-03-08 16:09:49      0.0   \n",
       "           ff5e44a76d3d07cf 2016-03-08 02:40:24 2016-03-08 02:40:13      0.0   \n",
       "           ff634e2192e1a9b5 2016-03-08 02:23:42 2016-03-08 02:23:00      0.0   \n",
       "           ff6661598e76b950 2016-03-08 17:05:40 2016-03-08 17:05:40      0.0   \n",
       "           ff704f81b3a295e4 2016-03-08 20:23:33 2016-03-08 20:22:49     60.0   \n",
       "           ff731b76b7a54ada 2016-03-08 17:28:11 2016-03-08 17:28:11      0.0   \n",
       "           ff7dfae55c771ea9 2016-03-08 10:08:49 2016-03-08 10:07:49      0.0   \n",
       "           ff810b54386c28d9 2016-03-08 00:02:00 2016-03-08 00:02:00      0.0   \n",
       "           ff8fdb513e1b4c51 2016-03-08 13:40:08 2016-03-08 13:38:32      0.0   \n",
       "           ff90fbbdc2d33351 2016-03-08 09:18:39 2016-03-08 09:15:47      0.0   \n",
       "           ff97099a41b39f77 2016-03-08 00:07:35 2016-03-08 00:07:35      0.0   \n",
       "           ff9a5029d34afa8d 2016-03-08 17:38:37 2016-03-08 17:38:37      0.0   \n",
       "           ffb09400502253e7 2016-03-08 13:07:05 2016-03-08 13:07:05      0.0   \n",
       "           ffb35a1dfd2404db 2016-03-08 18:06:22 2016-03-08 18:04:44      0.0   \n",
       "           ffb580658bdd9c45 2016-03-08 01:29:35 2016-03-08 01:29:35      0.0   \n",
       "           ffb5b85824119c65 2016-03-08 16:09:57 2016-03-08 16:09:13     60.0   \n",
       "           ffb7593c701f2e21 2016-03-08 14:12:06 2016-03-08 14:12:04      0.0   \n",
       "           ffbb0bdb82fd9df2 2016-03-08 15:14:32 2016-03-08 15:14:32      0.0   \n",
       "           ffbb68ac83a377ac 2016-03-08 16:22:24 2016-03-08 16:13:05   2280.0   \n",
       "           ffc8e9affd1f6770 2016-03-08 10:19:47 2016-03-08 10:19:20      0.0   \n",
       "           ffc95b21055eda2e 2016-03-08 15:37:54 2016-03-08 15:37:54      0.0   \n",
       "           ffd303cada56494e 2016-03-08 17:17:06 2016-03-08 17:16:42      0.0   \n",
       "           ffd6e8d2da9a5b2f 2016-03-08 17:07:04 2016-03-08 17:06:55      0.0   \n",
       "           ffd721ed5e9aec8e 2016-03-08 09:01:58 2016-03-08 09:01:58      0.0   \n",
       "           ffdd549708b44dd3 2016-03-08 18:55:06 2016-03-08 18:54:10    150.0   \n",
       "           ffdf5d155e9b5c19 2016-03-08 11:34:25 2016-03-08 11:23:42   1200.0   \n",
       "           ffdfd6a8ffbbee8a 2016-03-08 08:00:48 2016-03-08 08:00:48      0.0   \n",
       "           ffe1a14d4565573d 2016-03-08 15:25:41 2016-03-08 15:18:39   2280.0   \n",
       "           fffa387663722d38 2016-03-08 13:36:05 2016-03-08 13:36:05      0.0   \n",
       "           fffac2c4111308d0 2016-03-08 03:27:08 2016-03-08 03:27:08      0.0   \n",
       "\n",
       "                            session_length  \n",
       "date       session_id                       \n",
       "2016-03-01 000936ae06d62383       00:00:00  \n",
       "           001544bc03fac3e8       00:00:20  \n",
       "           001a3950cd4ac6c6       00:00:42  \n",
       "           001e2d0e159172d2       00:00:14  \n",
       "           0022bba0634595b9       00:00:00  \n",
       "           0024c4506bf92e1c       00:10:07  \n",
       "           0024f4f005f34c9d       00:01:55  \n",
       "           002601319d1a02e1       00:00:00  \n",
       "           0029420a5f8c7d90       00:00:17  \n",
       "           002ad4609eedc350       00:00:00  \n",
       "           002b97995ca9ce77       00:01:31  \n",
       "           003037c8d3c3fe94       00:01:34  \n",
       "           003f93d4791463c9       00:00:00  \n",
       "           00429c6a475ab250       00:00:00  \n",
       "           0044acabd5f6f179       00:00:25  \n",
       "           00528f41689a87eb       00:00:40  \n",
       "           005522d0fb5a2b0a       00:00:56  \n",
       "           005febb3441161da       00:00:00  \n",
       "           006504a6e17cd937       00:02:54  \n",
       "           006dc4ea61a54213       00:00:00  \n",
       "           00755fe48b066e95       00:01:19  \n",
       "           00779edb937f57af       00:00:00  \n",
       "           008a7074fa94c05c       00:07:05  \n",
       "           008f0c9a837b399d       00:01:40  \n",
       "           0093f0b5ae8e4ceb       00:07:08  \n",
       "           00961b898666d4ef       00:00:00  \n",
       "           00985aca9ed9a8e8       00:00:00  \n",
       "           009f85ff9e749ee9       00:00:00  \n",
       "           00a060fe4c607df4       00:00:00  \n",
       "           00b764358fa2b96a       00:00:00  \n",
       "...                                    ...  \n",
       "2016-03-08 ff5c65d680935511       00:00:30  \n",
       "           ff5e44a76d3d07cf       00:00:11  \n",
       "           ff634e2192e1a9b5       00:00:42  \n",
       "           ff6661598e76b950       00:00:00  \n",
       "           ff704f81b3a295e4       00:00:44  \n",
       "           ff731b76b7a54ada       00:00:00  \n",
       "           ff7dfae55c771ea9       00:01:00  \n",
       "           ff810b54386c28d9       00:00:00  \n",
       "           ff8fdb513e1b4c51       00:01:36  \n",
       "           ff90fbbdc2d33351       00:02:52  \n",
       "           ff97099a41b39f77       00:00:00  \n",
       "           ff9a5029d34afa8d       00:00:00  \n",
       "           ffb09400502253e7       00:00:00  \n",
       "           ffb35a1dfd2404db       00:01:38  \n",
       "           ffb580658bdd9c45       00:00:00  \n",
       "           ffb5b85824119c65       00:00:44  \n",
       "           ffb7593c701f2e21       00:00:02  \n",
       "           ffbb0bdb82fd9df2       00:00:00  \n",
       "           ffbb68ac83a377ac       00:09:19  \n",
       "           ffc8e9affd1f6770       00:00:27  \n",
       "           ffc95b21055eda2e       00:00:00  \n",
       "           ffd303cada56494e       00:00:24  \n",
       "           ffd6e8d2da9a5b2f       00:00:09  \n",
       "           ffd721ed5e9aec8e       00:00:00  \n",
       "           ffdd549708b44dd3       00:00:56  \n",
       "           ffdf5d155e9b5c19       00:10:43  \n",
       "           ffdfd6a8ffbbee8a       00:00:00  \n",
       "           ffe1a14d4565573d       00:07:02  \n",
       "           fffa387663722d38       00:00:00  \n",
       "           fffac2c4111308d0       00:00:00  \n",
       "\n",
       "[68111 rows x 4 columns]"
      ]
     },
     "execution_count": 53,
     "metadata": {},
     "output_type": "execute_result"
    }
   ],
   "source": [
    "session_df\n"
   ]
  },
  {
   "cell_type": "code",
   "execution_count": 54,
   "metadata": {},
   "outputs": [
    {
     "data": {
      "text/plain": [
       "Text(0.5,1,'Relationship between Session length vs Checkin duration ')"
      ]
     },
     "execution_count": 54,
     "metadata": {},
     "output_type": "execute_result"
    },
    {
     "data": {
      "image/png": "[encoded data removed]",
      "text/plain": [
       "<Figure size 432x288 with 1 Axes>"
      ]
     },
     "metadata": {},
     "output_type": "display_data"
    }
   ],
   "source": [
    "pt = session_df.sort_values('checkin').plot(x = 'session_length', y = 'checkin')\n",
    "pt.set_xlabel(\"session_length\")\n",
    "pt.set_ylabel(\"Duration of page opened\")\n",
    "pt.set_title(\"Relationship between Session length vs Checkin duration \")"
   ]
  },
  {
   "cell_type": "code",
   "execution_count": 55,
   "metadata": {},
   "outputs": [
    {
     "data": {
      "text/plain": [
       "<matplotlib.axes._subplots.AxesSubplot at 0x1b3b5beca20>"
      ]
     },
     "execution_count": 55,
     "metadata": {},
     "output_type": "execute_result"
    },
    {
     "data": {
      "image/png": "[encoded data removed]",
      "text/plain": [
       "<Figure size 432x288 with 1 Axes>"
      ]
     },
     "metadata": {},
     "output_type": "display_data"
    }
   ],
   "source": [
    "session_df[session_df['checkin'] < 3000].sort_values('checkin').plot(x = 'session_length', y = 'checkin')"
   ]
  },
  {
   "cell_type": "code",
   "execution_count": null,
   "metadata": {},
   "outputs": [],
   "source": []
  },
  {
   "cell_type": "code",
   "execution_count": 67,
   "metadata": {},
   "outputs": [],
   "source": [
    "import numpy as np"
   ]
  },
  {
   "cell_type": "code",
   "execution_count": 68,
   "metadata": {},
   "outputs": [],
   "source": [
    "data['is_clicked'] = np.nan"
   ]
  },
  {
   "cell_type": "code",
   "execution_count": 85,
   "metadata": {},
   "outputs": [
    {
     "data": {
      "text/html": [
       "<div>\n",
       "<style scoped>\n",
       "    .dataframe tbody tr th:only-of-type {\n",
       "        vertical-align: middle;\n",
       "    }\n",
       "\n",
       "    .dataframe tbody tr th {\n",
       "        vertical-align: top;\n",
       "    }\n",
       "\n",
       "    .dataframe thead th {\n",
       "        text-align: right;\n",
       "    }\n",
       "</style>\n",
       "<table border=\"1\" class=\"dataframe\">\n",
       "  <thead>\n",
       "    <tr style=\"text-align: right;\">\n",
       "      <th></th>\n",
       "      <th>uuid</th>\n",
       "      <th>timestamp</th>\n",
       "      <th>session_id</th>\n",
       "      <th>group</th>\n",
       "      <th>action</th>\n",
       "      <th>checkin</th>\n",
       "      <th>page_id</th>\n",
       "      <th>n_results</th>\n",
       "      <th>result_position</th>\n",
       "      <th>day</th>\n",
       "      <th>date</th>\n",
       "      <th>is_clicked</th>\n",
       "    </tr>\n",
       "  </thead>\n",
       "  <tbody>\n",
       "    <tr>\n",
       "      <th>0</th>\n",
       "      <td>00000736167c507e8ec225bd9e71f9e5</td>\n",
       "      <td>2016-03-01 10:38:42</td>\n",
       "      <td>78245c2c3fba013a</td>\n",
       "      <td>b</td>\n",
       "      <td>1</td>\n",
       "      <td>NaN</td>\n",
       "      <td>cbeb66d1bc1f1bc2</td>\n",
       "      <td>5.0</td>\n",
       "      <td>NaN</td>\n",
       "      <td>Tuesday</td>\n",
       "      <td>2016-03-01</td>\n",
       "      <td>NaN</td>\n",
       "    </tr>\n",
       "    <tr>\n",
       "      <th>1</th>\n",
       "      <td>00000c69fe345268935463abbfa5d5b3</td>\n",
       "      <td>2016-03-07 00:52:26</td>\n",
       "      <td>c559c3be98dca8a4</td>\n",
       "      <td>a</td>\n",
       "      <td>1</td>\n",
       "      <td>NaN</td>\n",
       "      <td>eb658e8722aad674</td>\n",
       "      <td>10.0</td>\n",
       "      <td>NaN</td>\n",
       "      <td>Monday</td>\n",
       "      <td>2016-03-07</td>\n",
       "      <td>NaN</td>\n",
       "    </tr>\n",
       "    <tr>\n",
       "      <th>2</th>\n",
       "      <td>00003bfdab715ee59077a3670331b787</td>\n",
       "      <td>2016-03-02 14:53:05</td>\n",
       "      <td>760bf89817ce4b08</td>\n",
       "      <td>a</td>\n",
       "      <td>checkin</td>\n",
       "      <td>30.0</td>\n",
       "      <td>f99a9fc1f7fdd21e</td>\n",
       "      <td>NaN</td>\n",
       "      <td>NaN</td>\n",
       "      <td>Wednesday</td>\n",
       "      <td>2016-03-02</td>\n",
       "      <td>NaN</td>\n",
       "    </tr>\n",
       "    <tr>\n",
       "      <th>3</th>\n",
       "      <td>0000465cd7c35ad2bdeafec953e08c1a</td>\n",
       "      <td>2016-03-02 22:27:01</td>\n",
       "      <td>fb905603d31b2071</td>\n",
       "      <td>a</td>\n",
       "      <td>checkin</td>\n",
       "      <td>60.0</td>\n",
       "      <td>e5626962a6939a75</td>\n",
       "      <td>NaN</td>\n",
       "      <td>10.0</td>\n",
       "      <td>Wednesday</td>\n",
       "      <td>2016-03-02</td>\n",
       "      <td>NaN</td>\n",
       "    </tr>\n",
       "    <tr>\n",
       "      <th>4</th>\n",
       "      <td>000050cbb4ef5b42b16c4d2cf69e6358</td>\n",
       "      <td>2016-03-02 09:50:23</td>\n",
       "      <td>c2bf5e5172a892dc</td>\n",
       "      <td>a</td>\n",
       "      <td>checkin</td>\n",
       "      <td>30.0</td>\n",
       "      <td>787dd6a4c371cbf9</td>\n",
       "      <td>NaN</td>\n",
       "      <td>NaN</td>\n",
       "      <td>Wednesday</td>\n",
       "      <td>2016-03-02</td>\n",
       "      <td>NaN</td>\n",
       "    </tr>\n",
       "  </tbody>\n",
       "</table>\n",
       "</div>"
      ],
      "text/plain": [
       "                               uuid           timestamp        session_id  \\\n",
       "0  00000736167c507e8ec225bd9e71f9e5 2016-03-01 10:38:42  78245c2c3fba013a   \n",
       "1  00000c69fe345268935463abbfa5d5b3 2016-03-07 00:52:26  c559c3be98dca8a4   \n",
       "2  00003bfdab715ee59077a3670331b787 2016-03-02 14:53:05  760bf89817ce4b08   \n",
       "3  0000465cd7c35ad2bdeafec953e08c1a 2016-03-02 22:27:01  fb905603d31b2071   \n",
       "4  000050cbb4ef5b42b16c4d2cf69e6358 2016-03-02 09:50:23  c2bf5e5172a892dc   \n",
       "\n",
       "  group   action  checkin           page_id  n_results  result_position  \\\n",
       "0     b        1      NaN  cbeb66d1bc1f1bc2        5.0              NaN   \n",
       "1     a        1      NaN  eb658e8722aad674       10.0              NaN   \n",
       "2     a  checkin     30.0  f99a9fc1f7fdd21e        NaN              NaN   \n",
       "3     a  checkin     60.0  e5626962a6939a75        NaN             10.0   \n",
       "4     a  checkin     30.0  787dd6a4c371cbf9        NaN              NaN   \n",
       "\n",
       "         day        date  is_clicked  \n",
       "0    Tuesday  2016-03-01         NaN  \n",
       "1     Monday  2016-03-07         NaN  \n",
       "2  Wednesday  2016-03-02         NaN  \n",
       "3  Wednesday  2016-03-02         NaN  \n",
       "4  Wednesday  2016-03-02         NaN  "
      ]
     },
     "execution_count": 85,
     "metadata": {},
     "output_type": "execute_result"
    }
   ],
   "source": [
    "data.head()"
   ]
  },
  {
   "cell_type": "code",
   "execution_count": 81,
   "metadata": {},
   "outputs": [
    {
     "data": {
      "text/plain": [
       "Series([], Name: is_clicked, dtype: int64)"
      ]
     },
     "execution_count": 81,
     "metadata": {},
     "output_type": "execute_result"
    }
   ],
   "source": [
    "data['is_clicked'].value_counts()"
   ]
  },
  {
   "cell_type": "code",
   "execution_count": 77,
   "metadata": {},
   "outputs": [
    {
     "data": {
      "text/plain": [
       "0"
      ]
     },
     "execution_count": 77,
     "metadata": {},
     "output_type": "execute_result"
    }
   ],
   "source": []
  },
  {
   "cell_type": "code",
   "execution_count": 83,
   "metadata": {},
   "outputs": [],
   "source": [
    "data.loc[(data['action'] == 'searchResultPage') & (data['n_results'] > 0), 'is_clicked' ] = 1"
   ]
  },
  {
   "cell_type": "code",
   "execution_count": 84,
   "metadata": {},
   "outputs": [],
   "source": [
    "data.loc[(data['action'] == 'searchResultPage') & (data['n_results'] == 0), 'is_clicked' ] = 0"
   ]
  },
  {
   "cell_type": "code",
   "execution_count": null,
   "metadata": {},
   "outputs": [],
   "source": []
  }
 ],
 "metadata": {
  "kernelspec": {
   "display_name": "Python 3",
   "language": "python",
   "name": "python3"
  },
  "language_info": {
   "codemirror_mode": {
    "name": "ipython",
    "version": 3
   },
   "file_extension": ".py",
   "mimetype": "text/x-python",
   "name": "python",
   "nbconvert_exporter": "python",
   "pygments_lexer": "ipython3",
   "version": "3.6.5"
  }
 },
 "nbformat": 4,
 "nbformat_minor": 2
}
